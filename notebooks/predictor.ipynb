{
 "cells": [
  {
   "cell_type": "code",
   "execution_count": 1,
   "metadata": {},
   "outputs": [
    {
     "name": "stdout",
     "output_type": "stream",
     "text": [
      "Accuracy: 82.12%\n"
     ]
    },
    {
     "data": {
      "text/plain": [
       "['../models/random_forest.pkl']"
      ]
     },
     "execution_count": 1,
     "metadata": {},
     "output_type": "execute_result"
    }
   ],
   "source": [
    "import sys\n",
    "import os\n",
    "\n",
    "# Add src/models to sys.path to be able to import the scripts\n",
    "sys.path.insert(0, os.path.abspath('../src/models/'))\n",
    "\n",
    "from train_model import train_model\n",
    "from make_predictions import make_predictions\n",
    "from retrain_model import retrain_model\n",
    "import joblib\n",
    "\n",
    "# Call the train_model function\n",
    "model = train_model()\n",
    "\n",
    "# Save the model to a file\n",
    "joblib.dump(model, '../models/random_forest.pkl')"
   ]
  },
  {
   "cell_type": "code",
   "execution_count": 2,
   "metadata": {},
   "outputs": [
    {
     "name": "stdout",
     "output_type": "stream",
     "text": [
      "0.8462671660424469\n",
      "{'max_depth': 8, 'n_estimators': 37}\n",
      "Model retrained and saved!\n"
     ]
    }
   ],
   "source": [
    "# Retrain the model if needed\n",
    "retrain_model()\n"
   ]
  },
  {
   "cell_type": "code",
   "execution_count": 2,
   "metadata": {},
   "outputs": [
    {
     "name": "stdout",
     "output_type": "stream",
     "text": [
      "Your submission was successfully saved!\n"
     ]
    }
   ],
   "source": [
    "# Call the make_predictions function\n",
    "make_predictions()"
   ]
  }
 ],
 "metadata": {
  "kernelspec": {
   "display_name": "Python 3",
   "language": "python",
   "name": "python3"
  },
  "language_info": {
   "codemirror_mode": {
    "name": "ipython",
    "version": 3
   },
   "file_extension": ".py",
   "mimetype": "text/x-python",
   "name": "python",
   "nbconvert_exporter": "python",
   "pygments_lexer": "ipython3",
   "version": "3.9.6"
  },
  "orig_nbformat": 4
 },
 "nbformat": 4,
 "nbformat_minor": 2
}
